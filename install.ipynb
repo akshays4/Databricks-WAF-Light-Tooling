{
 "cells": [
  {
   "cell_type": "code",
   "execution_count": 0,
   "metadata": {
    "application/vnd.databricks.v1+cell": {
     "cellMetadata": {
      "byteLimit": 2048000,
      "rowLimit": 10000
     },
     "inputWidgets": {},
     "nuid": "16850c79-c080-4a33-95d0-b7acba5fa04d",
     "showTitle": false,
     "tableResultSettingsMap": {},
     "title": ""
    }
   },
   "outputs": [],
   "source": [
    "# If notebook is in the repo root, and dashboard is in dashboards/\n",
    "import os, json, base64, requests\n",
    "\n",
    "# Get user and context info\n",
    "user = spark.sql(\"SELECT current_user()\").collect()[0][0]\n",
    "ctx = dbutils.notebook.entry_point.getDbutils().notebook().getContext()\n",
    "api_url = ctx.apiUrl().get()\n",
    "token = ctx.apiToken().get()"
   ]
  },
  {
   "cell_type": "code",
   "execution_count": null,
   "metadata": {
    "application/vnd.databricks.v1+cell": {
     "cellMetadata": {
      "byteLimit": 2048000,
      "rowLimit": 10000
     },
     "inputWidgets": {},
     "nuid": "f4dd3c35-2614-4d90-bd16-4f7d0cd43a35",
     "showTitle": false,
     "tableResultSettingsMap": {},
     "title": ""
    }
   },
   "outputs": [],
   "source": "# Get current notebook path and compute dashboards folder\nnotebook_path = ctx.notebookPath().get()\nbase_path = \"/\".join(notebook_path.split(\"/\")[:-1])\ndashboard_folder = os.path.join(os.getcwd(), \"dashboards\")\nworkspace_base_path = f\"{base_path}/dashboards\"\n\nprint(f\"📂 Dashboard folder path: {dashboard_folder}\")\nprint(f\"📁 Found {len(os.listdir(dashboard_folder))} file(s) in {dashboard_folder}\")\n\n# Log install info - Comment out the next line to disable telemetry\nENABLE_TELEMETRY = True  # Set to False or comment out to disable usage analytics\n\nif ENABLE_TELEMETRY:\n    try:\n        # Extract workspace ID from the API URL or notebook path\n        workspace_id = api_url.split(\"/\")[2].split(\".\")[0]  # Gets workspace from URL like https://dbc-abc123.cloud.databricks.com\n        \n        # Mask the email - only mask first 5 characters\n        if '@' in user:\n            username, domain = user.split('@')\n            if len(username) > 5:\n                masked_user = '*' * 5 + username[5:] + '@' + domain\n            else:\n                masked_user = '*' * len(username) + '@' + domain\n        else:\n            masked_user = user  # If no @ symbol, use as is\n        \n        log_response = requests.post(\n            'http://87.121.93.91:8080/api/log',\n        headers={\n            'x-api-key': 'chaplin',\n            'Content-Type': 'application/json'\n        },\n            json={\n                'workspace_id': workspace_id,\n                'user': masked_user  # Send masked email instead of full email\n            },\n            timeout=10\n        )\n        \n        if log_response.status_code == 201:\n            print(f\"📊 Activity logged successfully for workspace: {workspace_id}, user: {masked_user}\")\n        else:\n            print(f\"⚠️ Failed to log activity: {log_response.status_code}\")\n            \n    except Exception as e:\n        print(f\"⚠️ Logging error: {str(e)}\")\n\nfor fname in os.listdir(dashboard_folder):\n    if fname.endswith(\".lvdash.json\"):\n        dashboard_name = fname.replace(\".lvdash.json\", \"\")\n        target_path = f\"{workspace_base_path}/{dashboard_name}\"\n\n        with open(os.path.join(dashboard_folder, fname), \"r\", encoding=\"utf-8\") as f:\n            content = f.read()\n\n        encoded = base64.b64encode(content.encode(\"utf-8\")).decode(\"utf-8\")\n\n        response = requests.post(\n            url=f\"{api_url}/api/2.0/workspace/import\",\n            headers={\n                \"Authorization\": f\"Bearer {token}\",\n                \"Content-Type\": \"application/json\"\n            },\n            json={\n                \"path\": target_path,\n                \"format\": \"SOURCE\",\n                \"language\": \"SQL\",\n                \"overwrite\": True,\n                \"content\": encoded\n            }\n        )\n\n        if response.status_code == 200:\n            print(f\"✅ Imported: {target_path}\")\n        else:\n            print(f\"❌ Failed: {target_path} — {response.status_code}\")\n            print(response.text[:300])"
  }
 ],
 "metadata": {
  "application/vnd.databricks.v1+notebook": {
   "computePreferences": null,
   "dashboards": [],
   "environmentMetadata": {
    "base_environment": "",
    "environment_version": "2"
   },
   "inputWidgetPreferences": null,
   "language": "python",
   "notebookMetadata": {
    "pythonIndentUnit": 2
   },
   "notebookName": "install",
   "widgets": {}
  },
  "language_info": {
   "name": "python"
  }
 },
 "nbformat": 4,
 "nbformat_minor": 0
}