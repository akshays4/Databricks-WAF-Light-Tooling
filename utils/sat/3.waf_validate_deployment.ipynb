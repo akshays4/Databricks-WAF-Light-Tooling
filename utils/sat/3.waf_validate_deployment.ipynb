{
 "cells": [
  {
   "cell_type": "markdown",
   "metadata": {
    "application/vnd.databricks.v1+cell": {
     "cellMetadata": {},
     "inputWidgets": {},
     "nuid": "eba020a8-af91-4b8c-bfd9-b3f617dc67b2",
     "showTitle": false,
     "tableResultSettingsMap": {},
     "title": ""
    }
   },
   "source": [
    "### Retrieve details from widget"
   ]
  },
  {
   "cell_type": "code",
   "execution_count": 0,
   "metadata": {
    "application/vnd.databricks.v1+cell": {
     "cellMetadata": {
      "byteLimit": 2048000,
      "rowLimit": 10000
     },
     "inputWidgets": {},
     "nuid": "27b1a1dc-e5bd-48e7-89f8-7f3d469285db",
     "showTitle": false,
     "tableResultSettingsMap": {},
     "title": ""
    }
   },
   "outputs": [],
   "source": [
    "dbutils.widgets.text(\"account_id\", \"\")\n",
    "dbutils.widgets.text(\"client_id\", \"\")\n",
    "dbutils.widgets.text(\"client_secret\", \"\")\n",
    "dbutils.widgets.text(\"sp_id\", \"\")"
   ]
  },
  {
   "cell_type": "code",
   "execution_count": 0,
   "metadata": {
    "application/vnd.databricks.v1+cell": {
     "cellMetadata": {
      "byteLimit": 2048000,
      "rowLimit": 10000
     },
     "inputWidgets": {},
     "nuid": "21acb383-35f3-428b-8875-c3fe147bc6e9",
     "showTitle": false,
     "tableResultSettingsMap": {},
     "title": ""
    }
   },
   "outputs": [],
   "source": [
    "account_id = dbutils.widgets.get(\"account_id\")\n",
    "client_id = dbutils.widgets.get(\"client_id\")\n",
    "client_secret = dbutils.widgets.get(\"client_secret\")\n",
    "spi_id = dbutils.widgets.get(\"sp_id\")"
   ]
  },
  {
   "cell_type": "markdown",
   "metadata": {
    "application/vnd.databricks.v1+cell": {
     "cellMetadata": {},
     "inputWidgets": {},
     "nuid": "bf15cbd4-216a-47c2-80eb-fa760d5f7cf5",
     "showTitle": false,
     "tableResultSettingsMap": {},
     "title": ""
    }
   },
   "source": [
    "## Check Service Principal Permissions at Account level"
   ]
  },
  {
   "cell_type": "code",
   "execution_count": 0,
   "metadata": {
    "application/vnd.databricks.v1+cell": {
     "cellMetadata": {
      "byteLimit": 2048000,
      "rowLimit": 10000
     },
     "inputWidgets": {},
     "nuid": "4ccea2a7-6f9a-4d72-b49b-de5021b44894",
     "showTitle": true,
     "tableResultSettingsMap": {},
     "title": "Instantiate Account Client and retrieve Service Principal Details"
    }
   },
   "outputs": [],
   "source": [
    "\n",
    "from databricks.sdk import AccountClient\n",
    "\n",
    "a = AccountClient(\n",
    "    host=\"https://accounts.cloud.databricks.com/\",\n",
    "    account_id= account_id,\n",
    "    client_id= client_id,\n",
    "    client_secret= client_secret\n",
    ")\n",
    "\n",
    "acc_sp = a.service_principals.get(id=spi_id)"
   ]
  },
  {
   "cell_type": "code",
   "execution_count": 0,
   "metadata": {
    "application/vnd.databricks.v1+cell": {
     "cellMetadata": {
      "byteLimit": 2048000,
      "rowLimit": 10000
     },
     "inputWidgets": {},
     "nuid": "daf005cc-0b4a-4842-a928-f20444dacf1c",
     "showTitle": true,
     "tableResultSettingsMap": {},
     "title": "Check roles assigned to Account Service Principal"
    }
   },
   "outputs": [],
   "source": [
    "roles = [r.value for r in acc_sp.roles]\n",
    "\n",
    "isAccountAdmin = False\n",
    "for role in roles:\n",
    "    if role == \"account_admin\":\n",
    "        isAccountAdmin = True\n",
    "        break\n",
    "\n",
    "# print(f\"SP Is Admin: {isAccountAdmin}\")\n",
    "if isAccountAdmin:\n",
    "    displayHTML(\"<h3 style='color:green;'>Validation Successful: SP is an Account Admin</h3>\")\n",
    "else:\n",
    "    displayHTML(\"<h3 style='color:red;'>Validation Failed: SP is not an Account Admin</h3>\")"
   ]
  },
  {
   "cell_type": "markdown",
   "metadata": {
    "application/vnd.databricks.v1+cell": {
     "cellMetadata": {},
     "inputWidgets": {},
     "nuid": "d71020f8-d076-4f85-ab1e-3fa98f00a3c4",
     "showTitle": false,
     "tableResultSettingsMap": {},
     "title": ""
    }
   },
   "source": [
    "## Check Service Principal Permissions at Workspace level"
   ]
  },
  {
   "cell_type": "code",
   "execution_count": 0,
   "metadata": {
    "application/vnd.databricks.v1+cell": {
     "cellMetadata": {
      "byteLimit": 2048000,
      "rowLimit": 10000
     },
     "inputWidgets": {},
     "nuid": "8e2e5b14-5ea6-4e9d-b977-19b2021bd2b2",
     "showTitle": true,
     "tableResultSettingsMap": {},
     "title": "Instantiate Workspace Client and retrieve Workspace Service Principal"
    }
   },
   "outputs": [],
   "source": [
    "from databricks.sdk import WorkspaceClient\n",
    "\n",
    "wc = WorkspaceClient()\n",
    "\n",
    "ws_sp = wc.service_principals.get(id=spi_id)"
   ]
  },
  {
   "cell_type": "code",
   "execution_count": 0,
   "metadata": {
    "application/vnd.databricks.v1+cell": {
     "cellMetadata": {
      "byteLimit": 2048000,
      "rowLimit": 10000
     },
     "inputWidgets": {},
     "nuid": "2e19c212-18f6-4ac6-a602-67e84527ee8d",
     "showTitle": true,
     "tableResultSettingsMap": {},
     "title": "Check permissions for Workspace Service Principal"
    }
   },
   "outputs": [],
   "source": [
    "groups = [g.display for g in ws_sp.groups]\n",
    "\n",
    "isWorkspaceAdmin = False\n",
    "for group in groups:\n",
    "    if group == \"admins\":\n",
    "        isWorkspaceAdmin = True\n",
    "        break\n",
    "\n",
    "# displayHTML(f\"SP Is Workspace Admin: {isWorkspaceAdmin}\")\n",
    "if isWorkspaceAdmin:\n",
    "    displayHTML(\"<h3 style='color:green;'>Validation Successful: SP is a Workspace Admin</h3>\")\n",
    "else:\n",
    "    displayHTML(\"<h3 style='color:red;'>Validation Failed: SP is not a Workspace Admin</h3>\")"
   ]
  },
  {
   "cell_type": "markdown",
   "metadata": {
    "application/vnd.databricks.v1+cell": {
     "cellMetadata": {},
     "inputWidgets": {},
     "nuid": "2d850b3d-8c07-44d8-ad6e-084b469a037e",
     "showTitle": false,
     "tableResultSettingsMap": {},
     "title": ""
    }
   },
   "source": [
    "## Check if Dashboard Exists"
   ]
  },
  {
   "cell_type": "code",
   "execution_count": 0,
   "metadata": {
    "application/vnd.databricks.v1+cell": {
     "cellMetadata": {
      "byteLimit": 2048000,
      "rowLimit": 10000
     },
     "inputWidgets": {},
     "nuid": "3aca247c-35c1-467b-a176-ac25eccab5e2",
     "showTitle": false,
     "tableResultSettingsMap": {},
     "title": ""
    }
   },
   "outputs": [],
   "source": [
    "from databricks.sdk import WorkspaceClient\n",
    "\n",
    "# Initialize the Workspace client (uses notebook default auth)\n",
    "w = WorkspaceClient()\n",
    "\n",
    "# Widget to input the dashboard name you want to check\n",
    "# dbutils.widgets.text(\"dashboard_name\", \"\", \"Dashboard Name\")\n",
    "# dashboard_name = dbutils.widgets.get(\"dashboard_name\")\n",
    "dashboard_name = \"[SAT] Security Analysis Tool - Assessment Results\"\n",
    "\n",
    "# Build and send the list request with a search term\n",
    "dashboards = w.lakeview.list()\n",
    "\n",
    "# Iterate and check for exact name match\n",
    "found = False\n",
    "for dash in dashboards:\n",
    "    if dash.display_name == dashboard_name:\n",
    "        displayHTML(f\"<h3 style='color:green;'> Validation Successful: Found dashboard '{dashboard_name}'</h3>\")\n",
    "        found = True\n",
    "        break\n",
    "\n",
    "if not found:\n",
    "    displayHTML(\"<h3 style='color:red;'>Validation Failed: Dashboard does not exist</h3>\")"
   ]
  },
  {
   "cell_type": "markdown",
   "metadata": {
    "application/vnd.databricks.v1+cell": {
     "cellMetadata": {},
     "inputWidgets": {},
     "nuid": "a92e6712-2342-412e-aaff-fc5741fdfeb8",
     "showTitle": false,
     "tableResultSettingsMap": {},
     "title": ""
    }
   },
   "source": [
    "## Send Confirmation [TBD]"
   ]
  },
  {
   "cell_type": "code",
   "execution_count": 0,
   "metadata": {
    "application/vnd.databricks.v1+cell": {
     "cellMetadata": {},
     "inputWidgets": {},
     "nuid": "2da2b6b2-fae2-481c-a727-5b9b942ce3af",
     "showTitle": false,
     "tableResultSettingsMap": {},
     "title": ""
    }
   },
   "outputs": [],
   "source": []
  }
 ],
 "metadata": {
  "application/vnd.databricks.v1+notebook": {
   "computePreferences": null,
   "dashboards": [],
   "environmentMetadata": {
    "base_environment": "",
    "environment_version": "2"
   },
   "inputWidgetPreferences": null,
   "language": "python",
   "notebookMetadata": {
    "pythonIndentUnit": 4
   },
   "notebookName": "waf_validate_deployment",
   "widgets": {
    "account_id": {
     "currentValue": "1ea9cbc2-6c6f-443b-9a35-deb3e36959c5",
     "nuid": "9f4c7ec8-2673-4ff1-aeb3-67b3853dc5a4",
     "typedWidgetInfo": {
      "autoCreated": false,
      "defaultValue": "",
      "label": null,
      "name": "account_id",
      "options": {
       "widgetDisplayType": "Text",
       "validationRegex": null
      },
      "parameterDataType": "String"
     },
     "widgetInfo": {
      "widgetType": "text",
      "defaultValue": "",
      "label": null,
      "name": "account_id",
      "options": {
       "widgetType": "text",
       "autoCreated": null,
       "validationRegex": null
      }
     }
    },
    "client_id": {
     "currentValue": "ceba1821-b2f2-410b-b97b-c8dcb96c7238",
     "nuid": "e7d931d2-8255-45de-ad3a-fee81969e25d",
     "typedWidgetInfo": {
      "autoCreated": false,
      "defaultValue": "",
      "label": null,
      "name": "client_id",
      "options": {
       "widgetDisplayType": "Text",
       "validationRegex": null
      },
      "parameterDataType": "String"
     },
     "widgetInfo": {
      "widgetType": "text",
      "defaultValue": "",
      "label": null,
      "name": "client_id",
      "options": {
       "widgetType": "text",
       "autoCreated": null,
       "validationRegex": null
      }
     }
    },
    "client_secret": {
     "currentValue": "dose36d02cad2304d285515dd96848d29c02",
     "nuid": "8f1985ab-b29e-44aa-997d-f6c799c970c0",
     "typedWidgetInfo": {
      "autoCreated": false,
      "defaultValue": "",
      "label": null,
      "name": "client_secret",
      "options": {
       "widgetDisplayType": "Text",
       "validationRegex": null
      },
      "parameterDataType": "String"
     },
     "widgetInfo": {
      "widgetType": "text",
      "defaultValue": "",
      "label": null,
      "name": "client_secret",
      "options": {
       "widgetType": "text",
       "autoCreated": null,
       "validationRegex": null
      }
     }
    },
    "sp_id": {
     "currentValue": "6009391670726127",
     "nuid": "229b4027-c855-403f-a492-758d5117c7b0",
     "typedWidgetInfo": {
      "autoCreated": false,
      "defaultValue": "",
      "label": null,
      "name": "sp_id",
      "options": {
       "widgetDisplayType": "Text",
       "validationRegex": null
      },
      "parameterDataType": "String"
     },
     "widgetInfo": {
      "widgetType": "text",
      "defaultValue": "",
      "label": null,
      "name": "sp_id",
      "options": {
       "widgetType": "text",
       "autoCreated": null,
       "validationRegex": null
      }
     }
    }
   }
  },
  "language_info": {
   "name": "python"
  }
 },
 "nbformat": 4,
 "nbformat_minor": 0
}
